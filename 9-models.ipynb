{
 "cells": [
  {
   "cell_type": "code",
   "execution_count": 1,
   "id": "25c54cbb",
   "metadata": {
    "_cell_guid": "b1076dfc-b9ad-4769-8c92-a6c4dae69d19",
    "_uuid": "8f2839f25d086af736a60e9eeb907d3b93b6e0e5",
    "execution": {
     "iopub.execute_input": "2023-10-09T14:09:12.614140Z",
     "iopub.status.busy": "2023-10-09T14:09:12.613522Z",
     "iopub.status.idle": "2023-10-09T14:09:13.000499Z",
     "shell.execute_reply": "2023-10-09T14:09:12.999233Z"
    },
    "papermill": {
     "duration": 0.403231,
     "end_time": "2023-10-09T14:09:13.003735",
     "exception": false,
     "start_time": "2023-10-09T14:09:12.600504",
     "status": "completed"
    },
    "tags": []
   },
   "outputs": [
    {
     "name": "stdout",
     "output_type": "stream",
     "text": [
      "/kaggle/input/my-model/best_model (1).h5\n",
      "/kaggle/input/turkiye-is-bankasi-ml-challenge-5/train_final.parquet\n",
      "/kaggle/input/turkiye-is-bankasi-ml-challenge-5/test_final.parquet\n",
      "/kaggle/input/turkiye-is-bankasi-ml-challenge-5/submission_sample_final.parquet\n"
     ]
    }
   ],
   "source": [
    "# This Python 3 environment comes with many helpful analytics libraries installed\n",
    "# It is defined by the kaggle/python Docker image: https://github.com/kaggle/docker-python\n",
    "# For example, here's several helpful packages to load\n",
    "\n",
    "import numpy as np # linear algebra\n",
    "import pandas as pd # data processing, CSV file I/O (e.g. pd.read_csv)\n",
    "\n",
    "# Input data files are available in the read-only \"../input/\" directory\n",
    "# For example, running this (by clicking run or pressing Shift+Enter) will list all files under the input directory\n",
    "\n",
    "import os\n",
    "for dirname, _, filenames in os.walk('/kaggle/input'):\n",
    "    for filename in filenames:\n",
    "        print(os.path.join(dirname, filename))\n",
    "\n",
    "# You can write up to 20GB to the current directory (/kaggle/working/) that gets preserved as output when you create a version using \"Save & Run All\" \n",
    "# You can also write temporary files to /kaggle/temp/, but they won't be saved outside of the current session"
   ]
  },
  {
   "cell_type": "code",
   "execution_count": 2,
   "id": "b4fdfb19",
   "metadata": {
    "execution": {
     "iopub.execute_input": "2023-10-09T14:09:13.027761Z",
     "iopub.status.busy": "2023-10-09T14:09:13.027225Z",
     "iopub.status.idle": "2023-10-09T14:09:14.049683Z",
     "shell.execute_reply": "2023-10-09T14:09:14.048694Z"
    },
    "papermill": {
     "duration": 1.035864,
     "end_time": "2023-10-09T14:09:14.052409",
     "exception": false,
     "start_time": "2023-10-09T14:09:13.016545",
     "status": "completed"
    },
    "tags": []
   },
   "outputs": [],
   "source": [
    "train = pd.read_parquet(\"/kaggle/input/turkiye-is-bankasi-ml-challenge-5/train_final.parquet\")\n"
   ]
  },
  {
   "cell_type": "markdown",
   "id": "fb28dcb7",
   "metadata": {
    "papermill": {
     "duration": 0.008508,
     "end_time": "2023-10-09T14:09:14.070169",
     "exception": false,
     "start_time": "2023-10-09T14:09:14.061661",
     "status": "completed"
    },
    "tags": []
   },
   "source": [
    "## Data Prepare 1"
   ]
  },
  {
   "cell_type": "code",
   "execution_count": 3,
   "id": "08ca8111",
   "metadata": {
    "execution": {
     "iopub.execute_input": "2023-10-09T14:09:14.089713Z",
     "iopub.status.busy": "2023-10-09T14:09:14.089298Z",
     "iopub.status.idle": "2023-10-09T14:09:14.860303Z",
     "shell.execute_reply": "2023-10-09T14:09:14.859509Z"
    },
    "papermill": {
     "duration": 0.783891,
     "end_time": "2023-10-09T14:09:14.863080",
     "exception": false,
     "start_time": "2023-10-09T14:09:14.079189",
     "status": "completed"
    },
    "tags": []
   },
   "outputs": [],
   "source": [
    "cats_dict = {\n",
    " 'carrier': ['TURKCELL',\n",
    "  'VODAFONE TR',\n",
    "  'TURK TELEKOM',\n",
    "  'BIMCELL',\n",
    "  'Unknown',\n",
    "  'KKTCELL',\n",
    "  'VODAFONE',\n",
    "  'HAYATEVESIGAR',\n",
    "  'TEKNOSACELL'],\n",
    " 'devicebrand': ['Apple',\n",
    "  'samsung',\n",
    "  'Redmi',\n",
    "  'HUAWEI',\n",
    "  'xiaomi',\n",
    "  'OPPO',\n",
    "  'POCO',\n",
    "  'GM',\n",
    "  'realme']}\n",
    "\n",
    "\n",
    "df = train.copy()\n",
    "categorical_columns = ['carrier',\n",
    "       'devicebrand',]\n",
    "for col in categorical_columns:\n",
    "    df[col] = df[col].apply(lambda x: x if  x in cats_dict[col] else \"others\" )\n",
    "\n",
    "df['carrier'].value_counts() , df['devicebrand'].value_counts() ,df['month'].value_counts()\n",
    "df = df.drop([\"id\",\"month\"], axis=1)\n",
    "df= df.join(pd.get_dummies(df[categorical_columns])).drop(categorical_columns ,axis=1)\n",
    "\n",
    "\n",
    "new_target= df['target'].str.get_dummies(sep=', ').astype(int)\n",
    "df = df.drop(\"target\",axis=1)"
   ]
  },
  {
   "cell_type": "markdown",
   "id": "c5b23f83",
   "metadata": {
    "papermill": {
     "duration": 0.008677,
     "end_time": "2023-10-09T14:09:14.880781",
     "exception": false,
     "start_time": "2023-10-09T14:09:14.872104",
     "status": "completed"
    },
    "tags": []
   },
   "source": [
    "## Data prepare 2"
   ]
  },
  {
   "cell_type": "code",
   "execution_count": 4,
   "id": "900b7765",
   "metadata": {
    "execution": {
     "iopub.execute_input": "2023-10-09T14:09:14.901728Z",
     "iopub.status.busy": "2023-10-09T14:09:14.900241Z",
     "iopub.status.idle": "2023-10-09T14:09:14.904954Z",
     "shell.execute_reply": "2023-10-09T14:09:14.904170Z"
    },
    "papermill": {
     "duration": 0.017174,
     "end_time": "2023-10-09T14:09:14.906886",
     "exception": false,
     "start_time": "2023-10-09T14:09:14.889712",
     "status": "completed"
    },
    "tags": []
   },
   "outputs": [],
   "source": [
    "# df = train.copy()\n",
    "# categorical_columns = ['carrier',\n",
    "#        'devicebrand',]\n",
    "\n",
    "\n",
    "# df = df.drop([\"id\",\"month\"], axis=1)\n",
    "# df= df.join(pd.get_dummies(df[categorical_columns])).drop(categorical_columns ,axis=1)\n",
    "\n",
    "\n",
    "# new_target= df['target'].str.get_dummies(sep=', ').astype(int)\n",
    "# df = df.drop(\"target\",axis=1)"
   ]
  },
  {
   "cell_type": "markdown",
   "id": "af33e35b",
   "metadata": {
    "papermill": {
     "duration": 0.008826,
     "end_time": "2023-10-09T14:09:14.924705",
     "exception": false,
     "start_time": "2023-10-09T14:09:14.915879",
     "status": "completed"
    },
    "tags": []
   },
   "source": []
  },
  {
   "cell_type": "code",
   "execution_count": 5,
   "id": "25bf799f",
   "metadata": {
    "execution": {
     "iopub.execute_input": "2023-10-09T14:09:14.944712Z",
     "iopub.status.busy": "2023-10-09T14:09:14.944010Z",
     "iopub.status.idle": "2023-10-09T14:09:15.708076Z",
     "shell.execute_reply": "2023-10-09T14:09:15.706842Z"
    },
    "papermill": {
     "duration": 0.777215,
     "end_time": "2023-10-09T14:09:15.710988",
     "exception": false,
     "start_time": "2023-10-09T14:09:14.933773",
     "status": "completed"
    },
    "tags": []
   },
   "outputs": [],
   "source": [
    "labels = new_target.to_numpy().astype('float32')\n",
    "features = df.to_numpy().astype('float32')"
   ]
  },
  {
   "cell_type": "code",
   "execution_count": 6,
   "id": "a27f046e",
   "metadata": {
    "execution": {
     "iopub.execute_input": "2023-10-09T14:09:15.729980Z",
     "iopub.status.busy": "2023-10-09T14:09:15.729617Z",
     "iopub.status.idle": "2023-10-09T14:09:17.174625Z",
     "shell.execute_reply": "2023-10-09T14:09:17.173171Z"
    },
    "papermill": {
     "duration": 1.457618,
     "end_time": "2023-10-09T14:09:17.177413",
     "exception": false,
     "start_time": "2023-10-09T14:09:15.719795",
     "status": "completed"
    },
    "tags": []
   },
   "outputs": [
    {
     "name": "stdout",
     "output_type": "stream",
     "text": [
      "76179 76179 train examples\n",
      "8465 8465 validation examples\n",
      "9405 9405 test examples\n"
     ]
    }
   ],
   "source": [
    "from sklearn.model_selection import train_test_split\n",
    "\n",
    "X_train, X_test, y_train, y_test = train_test_split(features, labels, test_size=0.1, random_state=42, shuffle = True)\n",
    "X_train, X_val, y_train, y_val = train_test_split(X_train, y_train, test_size=0.1, random_state=42)\n",
    "\n",
    "print(len(X_train) , len(y_train), 'train examples')\n",
    "print(len(X_val), len(y_val), 'validation examples')\n",
    "print(len(X_test),len(y_test), 'test examples')"
   ]
  },
  {
   "cell_type": "markdown",
   "id": "fffc03df",
   "metadata": {
    "papermill": {
     "duration": 0.008512,
     "end_time": "2023-10-09T14:09:17.195145",
     "exception": false,
     "start_time": "2023-10-09T14:09:17.186633",
     "status": "completed"
    },
    "tags": []
   },
   "source": [
    "# Model 1 : jaccard_samples : 0,55\n",
    "# prep2 0.547"
   ]
  },
  {
   "cell_type": "code",
   "execution_count": 7,
   "id": "80c7e256",
   "metadata": {
    "execution": {
     "iopub.execute_input": "2023-10-09T14:09:17.214887Z",
     "iopub.status.busy": "2023-10-09T14:09:17.214471Z",
     "iopub.status.idle": "2023-10-09T14:09:17.219867Z",
     "shell.execute_reply": "2023-10-09T14:09:17.218644Z"
    },
    "papermill": {
     "duration": 0.017935,
     "end_time": "2023-10-09T14:09:17.222065",
     "exception": false,
     "start_time": "2023-10-09T14:09:17.204130",
     "status": "completed"
    },
    "tags": []
   },
   "outputs": [],
   "source": [
    "\n",
    "# from sklearn.ensemble import RandomForestClassifier\n",
    "# from sklearn.metrics import f1_score, precision_score, recall_score, hamming_loss, accuracy_score\n",
    "\n",
    "# # Create a DataFrame to store the predicted labels\n",
    "# predicted_labels_df = pd.DataFrame()\n",
    "# models = []\n",
    "\n",
    "\n",
    "# # Train nine models, one for each label\n",
    "# for i in range(9):\n",
    "#     # Create a Random Forest Classifier for each label (you can use other models as needed)\n",
    "#     model = RandomForestClassifier(verbose=1,n_estimators=100, random_state=123, n_jobs=-1)\n",
    "    \n",
    "#     # Train the model for the current label\n",
    "#     model.fit(X_train, y_train[:, i])\n",
    "    \n",
    "#     # Predict the labels for the test set\n",
    "#     y_pred = model.predict(X_test)\n",
    "    \n",
    "#     # Store the predicted labels in the DataFrame\n",
    "#     predicted_labels_df[f'Label_{i+1}_Predicted'] = y_pred\n",
    "    \n",
    "#     f1 = f1_score(y_test[:, i], y_pred)\n",
    "#     precision = precision_score(y_test[:, i], y_pred)\n",
    "#     recall = recall_score(y_test[:, i], y_pred)\n",
    "#     hamming = hamming_loss(y_test[:, i], y_pred)\n",
    "    \n",
    "#     models.append({\n",
    "#         \"label\": f\"Label {i+1}\",\n",
    "#         \"model\": model,\n",
    "#         \"f1_score\": f1,\n",
    "#         \"precision\": precision,\n",
    "#         \"recall\": recall,\n",
    "#         \"hamming_loss\": hamming\n",
    "#     })\n",
    "    "
   ]
  },
  {
   "cell_type": "markdown",
   "id": "d06d0665",
   "metadata": {
    "papermill": {
     "duration": 0.008712,
     "end_time": "2023-10-09T14:09:17.239767",
     "exception": false,
     "start_time": "2023-10-09T14:09:17.231055",
     "status": "completed"
    },
    "tags": []
   },
   "source": [
    "Problems with:\n",
    "'Label 1',\n",
    "'f1_score': 0.009914375844975214,\n",
    " \n",
    "'Label 3',\n",
    "  'f1_score': 0.0,\n",
    "\n",
    "'Label 4',\n",
    "  'model': RandomForestClassifier(n_jobs=-1, random_state=123, verbose=1),\n",
    "  'f1_score': 0.39360978925900747,\n",
    "\n",
    "'Label 5',\n",
    "  'f1_score': 0.14562647754137117,\n",
    "\n",
    " \n",
    "'Label 7',\n",
    "  'f1_score': 0.0,\n",
    "  ,\n",
    " 'Label 8',\n",
    "  'f1_score': 0.38043195420244597,\n",
    " \n",
    " 'Label 9',\n",
    "  'f1_score': 0.00846740050804403,\n",
    " "
   ]
  },
  {
   "cell_type": "markdown",
   "id": "237aa379",
   "metadata": {
    "papermill": {
     "duration": 0.008467,
     "end_time": "2023-10-09T14:09:17.257325",
     "exception": false,
     "start_time": "2023-10-09T14:09:17.248858",
     "status": "completed"
    },
    "tags": []
   },
   "source": []
  },
  {
   "cell_type": "code",
   "execution_count": 8,
   "id": "b460f7ae",
   "metadata": {
    "execution": {
     "iopub.execute_input": "2023-10-09T14:09:17.277020Z",
     "iopub.status.busy": "2023-10-09T14:09:17.276656Z",
     "iopub.status.idle": "2023-10-09T14:09:17.281787Z",
     "shell.execute_reply": "2023-10-09T14:09:17.280529Z"
    },
    "papermill": {
     "duration": 0.017726,
     "end_time": "2023-10-09T14:09:17.284070",
     "exception": false,
     "start_time": "2023-10-09T14:09:17.266344",
     "status": "completed"
    },
    "tags": []
   },
   "outputs": [],
   "source": [
    "# test_df = pd.DataFrame()\n",
    "\n",
    "# for i in range(9):\n",
    "#     # Create a Random Forest Classifier for each label (you can use other models as needed)\n",
    " \n",
    "    \n",
    "#     # Predict the labels for the test set\n",
    "#     y_pred = models[i][\"model\"].predict_proba(X_test)\n",
    "    \n",
    "#     # Store the predicted labels in the DataFrame\n",
    "#     test_df[f'Label_{i+1}_Predicted'] = y_pred[:,1]\n",
    "#     print(i)"
   ]
  },
  {
   "cell_type": "code",
   "execution_count": 9,
   "id": "9ad876e3",
   "metadata": {
    "execution": {
     "iopub.execute_input": "2023-10-09T14:09:17.304870Z",
     "iopub.status.busy": "2023-10-09T14:09:17.304472Z",
     "iopub.status.idle": "2023-10-09T14:09:17.309626Z",
     "shell.execute_reply": "2023-10-09T14:09:17.308342Z"
    },
    "papermill": {
     "duration": 0.018695,
     "end_time": "2023-10-09T14:09:17.312092",
     "exception": false,
     "start_time": "2023-10-09T14:09:17.293397",
     "status": "completed"
    },
    "tags": []
   },
   "outputs": [],
   "source": [
    "# def sort_and_get_threshhold(arr):\n",
    "#   sorted_array = np.sort(arr)[::-1]\n",
    "#   threshold = sorted_array[2] \n",
    "#   result = []\n",
    "#   for i in arr:\n",
    "#         if i >= threshold and sum(result)<3:\n",
    "#             result.append(1)\n",
    "#         else:\n",
    "#             result.append(0)\n",
    "\n",
    "            \n",
    "#   return result"
   ]
  },
  {
   "cell_type": "code",
   "execution_count": 10,
   "id": "10c51669",
   "metadata": {
    "execution": {
     "iopub.execute_input": "2023-10-09T14:09:17.332757Z",
     "iopub.status.busy": "2023-10-09T14:09:17.332167Z",
     "iopub.status.idle": "2023-10-09T14:09:17.337300Z",
     "shell.execute_reply": "2023-10-09T14:09:17.335976Z"
    },
    "papermill": {
     "duration": 0.01875,
     "end_time": "2023-10-09T14:09:17.340098",
     "exception": false,
     "start_time": "2023-10-09T14:09:17.321348",
     "status": "completed"
    },
    "tags": []
   },
   "outputs": [],
   "source": [
    "# from sklearn.metrics import jaccard_score\n",
    "# result = pd.DataFrame(test_df).apply(sort_and_get_threshhold,axis=1)\n",
    "# result_np = np.array(result.to_list())\n",
    "# jaccard_samples = jaccard_score(y_test, result_np, average='samples')\n",
    "# jaccard_samples"
   ]
  },
  {
   "cell_type": "code",
   "execution_count": null,
   "id": "3ebde28b",
   "metadata": {
    "papermill": {
     "duration": 0.008158,
     "end_time": "2023-10-09T14:09:17.357146",
     "exception": false,
     "start_time": "2023-10-09T14:09:17.348988",
     "status": "completed"
    },
    "tags": []
   },
   "outputs": [],
   "source": []
  },
  {
   "cell_type": "code",
   "execution_count": 11,
   "id": "b6e6c4d2",
   "metadata": {
    "execution": {
     "iopub.execute_input": "2023-10-09T14:09:17.376436Z",
     "iopub.status.busy": "2023-10-09T14:09:17.376011Z",
     "iopub.status.idle": "2023-10-09T14:09:17.381120Z",
     "shell.execute_reply": "2023-10-09T14:09:17.379906Z"
    },
    "papermill": {
     "duration": 0.017517,
     "end_time": "2023-10-09T14:09:17.383266",
     "exception": false,
     "start_time": "2023-10-09T14:09:17.365749",
     "status": "completed"
    },
    "tags": []
   },
   "outputs": [],
   "source": [
    "# test_df = pd.DataFrame()\n",
    "\n",
    "# for i in range(9):\n",
    "#     # Create a Random Forest Classifier for each label (you can use other models as needed)\n",
    " \n",
    "    \n",
    "#     # Predict the labels for the test set\n",
    "#     y_pred = models[i][\"model\"].predict_proba(X_test)\n",
    "    \n",
    "#     # Store the predicted labels in the DataFrame\n",
    "#     test_df[f'Label_{i+1}_Predicted'] = y_pred[:,1]\n",
    "#     print(i)"
   ]
  },
  {
   "cell_type": "code",
   "execution_count": 12,
   "id": "27d236bf",
   "metadata": {
    "execution": {
     "iopub.execute_input": "2023-10-09T14:09:17.462614Z",
     "iopub.status.busy": "2023-10-09T14:09:17.462174Z",
     "iopub.status.idle": "2023-10-09T14:09:17.467410Z",
     "shell.execute_reply": "2023-10-09T14:09:17.465879Z"
    },
    "papermill": {
     "duration": 0.017532,
     "end_time": "2023-10-09T14:09:17.469701",
     "exception": false,
     "start_time": "2023-10-09T14:09:17.452169",
     "status": "completed"
    },
    "tags": []
   },
   "outputs": [],
   "source": [
    "# sum(y_pred[:,0] >0.5)"
   ]
  },
  {
   "cell_type": "markdown",
   "id": "07e20f6f",
   "metadata": {
    "papermill": {
     "duration": 0.008562,
     "end_time": "2023-10-09T14:09:17.487046",
     "exception": false,
     "start_time": "2023-10-09T14:09:17.478484",
     "status": "completed"
    },
    "tags": []
   },
   "source": [
    "# Model 2  : Jaccard 0.5515"
   ]
  },
  {
   "cell_type": "code",
   "execution_count": 13,
   "id": "b2e57659",
   "metadata": {
    "execution": {
     "iopub.execute_input": "2023-10-09T14:09:17.506752Z",
     "iopub.status.busy": "2023-10-09T14:09:17.506322Z",
     "iopub.status.idle": "2023-10-09T14:09:17.512836Z",
     "shell.execute_reply": "2023-10-09T14:09:17.511754Z"
    },
    "papermill": {
     "duration": 0.019137,
     "end_time": "2023-10-09T14:09:17.514888",
     "exception": false,
     "start_time": "2023-10-09T14:09:17.495751",
     "status": "completed"
    },
    "tags": []
   },
   "outputs": [],
   "source": [
    "# import xgboost as xgb\n",
    "# from xgboost import XGBClassifier, XGBRegressor\n",
    "# # Create a DataFrame to store the predicted labels\n",
    "# predicted_labels_df = pd.DataFrame()\n",
    "# models = []\n",
    "\n",
    "\n",
    "# # Train nine models, one for each label\n",
    "# for i in range(9):\n",
    "#     # Create a Random Forest Classifier for each label (you can use other models as needed)\n",
    "#     model = XGBClassifier(\n",
    "# #         learning_rate=0.1,  # Learning rate (usually between 0.01 and 0.3)\n",
    "# #         n_estimators=100,   # Number of boosting rounds (trees)\n",
    "# #         max_depth=3,        # Maximum depth of each tree\n",
    "# #         min_child_weight=1, # Minimum sum of instance weight (hessian) needed in a child\n",
    "# #         gamma=0,            # Regularization parameter for tree complexity\n",
    "# #         subsample=1.0,      # Fraction of samples used for fitting the trees\n",
    "# #         colsample_bytree=1, # Fraction of features used for fitting the trees\n",
    "# #         objective='binary:logistic',  # Objective function for classification\n",
    "# #         eval_metric='logloss',       # Evaluation metric\n",
    "# #         seed=42             # Random seed for reproducibility\n",
    "#     )\n",
    "\n",
    "#     # Train the model for the current label\n",
    "#     model.fit(X_train, y_train[:, i])\n",
    "    \n",
    "#     # Predict the labels for the test set\n",
    "#     y_pred = model.predict(X_test)\n",
    "    \n",
    "#     # Store the predicted labels in the DataFrame\n",
    "#     predicted_labels_df[f'Label_{i+1}_Predicted'] = y_pred\n",
    "    \n",
    "#     f1 = f1_score(y_test[:, i], y_pred)\n",
    "#     precision = precision_score(y_test[:, i], y_pred)\n",
    "#     recall = recall_score(y_test[:, i], y_pred)\n",
    "#     hamming = hamming_loss(y_test[:, i], y_pred)\n",
    "    \n",
    "    \n",
    "#     importances = model.feature_importances_\n",
    "\n",
    "    \n",
    "#     models.append({\n",
    "#         \"label\": f\"Label {i+1}\",\n",
    "#         \"model\": model,\n",
    "#         \"f1_score\": f1,\n",
    "#         \"precision\": precision,\n",
    "#         \"recall\": recall,\n",
    "#         \"hamming_loss\": hamming\n",
    "#         ,\"importances\":importances\n",
    "#     })\n",
    "    "
   ]
  },
  {
   "cell_type": "code",
   "execution_count": 14,
   "id": "50130980",
   "metadata": {
    "execution": {
     "iopub.execute_input": "2023-10-09T14:09:17.534937Z",
     "iopub.status.busy": "2023-10-09T14:09:17.534520Z",
     "iopub.status.idle": "2023-10-09T14:09:17.540150Z",
     "shell.execute_reply": "2023-10-09T14:09:17.539013Z"
    },
    "papermill": {
     "duration": 0.018647,
     "end_time": "2023-10-09T14:09:17.542663",
     "exception": false,
     "start_time": "2023-10-09T14:09:17.524016",
     "status": "completed"
    },
    "tags": []
   },
   "outputs": [],
   "source": [
    "# test_df = pd.DataFrame()\n",
    "\n",
    "# for i in range(9):\n",
    "#     # Create a Random Forest Classifier for each label (you can use other models as needed)\n",
    " \n",
    "    \n",
    "#     # Predict the labels for the test set\n",
    "#     y_pred = models[i][\"model\"].predict_proba(X_test)\n",
    "    \n",
    "#     # Store the predicted labels in the DataFrame\n",
    "#     test_df[f'Label_{i+1}_Predicted'] = y_pred[:,1]\n",
    "#     print(i)"
   ]
  },
  {
   "cell_type": "code",
   "execution_count": 15,
   "id": "a653a774",
   "metadata": {
    "execution": {
     "iopub.execute_input": "2023-10-09T14:09:17.561859Z",
     "iopub.status.busy": "2023-10-09T14:09:17.561444Z",
     "iopub.status.idle": "2023-10-09T14:09:17.566778Z",
     "shell.execute_reply": "2023-10-09T14:09:17.565462Z"
    },
    "papermill": {
     "duration": 0.017652,
     "end_time": "2023-10-09T14:09:17.569032",
     "exception": false,
     "start_time": "2023-10-09T14:09:17.551380",
     "status": "completed"
    },
    "tags": []
   },
   "outputs": [],
   "source": [
    "# def sort_and_get_threshhold(arr):\n",
    "#   sorted_array = np.sort(arr)[::-1]\n",
    "#   threshold = sorted_array[2] \n",
    "#   result = []\n",
    "#   for i in arr:\n",
    "#         if i >= threshold and sum(result)<3:\n",
    "#             result.append(1)\n",
    "#         else:\n",
    "#             result.append(0)\n",
    "\n",
    "            \n",
    "#   return result"
   ]
  },
  {
   "cell_type": "code",
   "execution_count": 16,
   "id": "511a279e",
   "metadata": {
    "execution": {
     "iopub.execute_input": "2023-10-09T14:09:17.588078Z",
     "iopub.status.busy": "2023-10-09T14:09:17.587657Z",
     "iopub.status.idle": "2023-10-09T14:09:17.592727Z",
     "shell.execute_reply": "2023-10-09T14:09:17.591150Z"
    },
    "papermill": {
     "duration": 0.017653,
     "end_time": "2023-10-09T14:09:17.595141",
     "exception": false,
     "start_time": "2023-10-09T14:09:17.577488",
     "status": "completed"
    },
    "tags": []
   },
   "outputs": [],
   "source": [
    "# from sklearn.metrics import jaccard_score\n",
    "# result = pd.DataFrame(test_df).apply(sort_and_get_threshhold,axis=1)\n",
    "# result_np = np.array(result.to_list())\n",
    "# jaccard_samples = jaccard_score(y_test, result_np, average='samples')\n",
    "# jaccard_samples"
   ]
  },
  {
   "cell_type": "markdown",
   "id": "bfd7b0da",
   "metadata": {
    "papermill": {
     "duration": 0.010313,
     "end_time": "2023-10-09T14:09:17.614562",
     "exception": false,
     "start_time": "2023-10-09T14:09:17.604249",
     "status": "completed"
    },
    "tags": []
   },
   "source": [
    "# Model 3   jaccard : 0.53"
   ]
  },
  {
   "cell_type": "code",
   "execution_count": 17,
   "id": "c77d5c55",
   "metadata": {
    "execution": {
     "iopub.execute_input": "2023-10-09T14:09:17.638063Z",
     "iopub.status.busy": "2023-10-09T14:09:17.637630Z",
     "iopub.status.idle": "2023-10-09T14:09:17.642661Z",
     "shell.execute_reply": "2023-10-09T14:09:17.641351Z"
    },
    "papermill": {
     "duration": 0.018456,
     "end_time": "2023-10-09T14:09:17.644789",
     "exception": false,
     "start_time": "2023-10-09T14:09:17.626333",
     "status": "completed"
    },
    "tags": []
   },
   "outputs": [],
   "source": [
    "# import tensorflow as tf\n",
    "# loaded_model = tf.keras.models.load_model(\"/kaggle/input/my-model/best_model (1).h5\")\n",
    "# pred = loaded_model.predict(X_test)\n"
   ]
  },
  {
   "cell_type": "code",
   "execution_count": 18,
   "id": "d206927e",
   "metadata": {
    "execution": {
     "iopub.execute_input": "2023-10-09T14:09:17.664436Z",
     "iopub.status.busy": "2023-10-09T14:09:17.663973Z",
     "iopub.status.idle": "2023-10-09T14:09:17.669713Z",
     "shell.execute_reply": "2023-10-09T14:09:17.668810Z"
    },
    "papermill": {
     "duration": 0.018245,
     "end_time": "2023-10-09T14:09:17.671808",
     "exception": false,
     "start_time": "2023-10-09T14:09:17.653563",
     "status": "completed"
    },
    "tags": []
   },
   "outputs": [],
   "source": [
    "# def sort_and_get_threshhold(arr):\n",
    "#   sorted_array = np.sort(arr)[::-1]\n",
    "#   threshold = sorted_array[2] \n",
    "#   result = []\n",
    "#   for i in arr:\n",
    "#         if i >= threshold and sum(result)<3:\n",
    "#             result.append(1)\n",
    "#         else:\n",
    "#             result.append(0)\n",
    "\n",
    "            \n",
    "#   return result"
   ]
  },
  {
   "cell_type": "code",
   "execution_count": 19,
   "id": "99a2ae06",
   "metadata": {
    "execution": {
     "iopub.execute_input": "2023-10-09T14:09:17.690464Z",
     "iopub.status.busy": "2023-10-09T14:09:17.690084Z",
     "iopub.status.idle": "2023-10-09T14:09:17.695249Z",
     "shell.execute_reply": "2023-10-09T14:09:17.694004Z"
    },
    "papermill": {
     "duration": 0.017004,
     "end_time": "2023-10-09T14:09:17.697136",
     "exception": false,
     "start_time": "2023-10-09T14:09:17.680132",
     "status": "completed"
    },
    "tags": []
   },
   "outputs": [],
   "source": [
    "# from sklearn.metrics import jaccard_score\n",
    "# result = pd.DataFrame(pred).apply(sort_and_get_threshhold,axis=1)\n",
    "# result_np = np.array(result.to_list())\n",
    "# jaccard_samples = jaccard_score(y_test, result_np, average='samples')\n",
    "# jaccard_samples"
   ]
  },
  {
   "cell_type": "markdown",
   "id": "9a04bdd4",
   "metadata": {
    "papermill": {
     "duration": 0.009394,
     "end_time": "2023-10-09T14:09:17.715530",
     "exception": false,
     "start_time": "2023-10-09T14:09:17.706136",
     "status": "completed"
    },
    "tags": []
   },
   "source": [
    "# Model 4 jaccard 0.5501541733120681\n",
    "onsubmit : 0.42848"
   ]
  },
  {
   "cell_type": "code",
   "execution_count": 20,
   "id": "82a5d2a2",
   "metadata": {
    "execution": {
     "iopub.execute_input": "2023-10-09T14:09:17.737004Z",
     "iopub.status.busy": "2023-10-09T14:09:17.735837Z",
     "iopub.status.idle": "2023-10-09T14:10:49.802860Z",
     "shell.execute_reply": "2023-10-09T14:10:49.801410Z"
    },
    "papermill": {
     "duration": 92.080546,
     "end_time": "2023-10-09T14:10:49.805232",
     "exception": false,
     "start_time": "2023-10-09T14:09:17.724686",
     "status": "completed"
    },
    "tags": []
   },
   "outputs": [
    {
     "name": "stdout",
     "output_type": "stream",
     "text": [
      "Epoch 1/20\n",
      "77/77 [==============================] - 2s 10ms/step - loss: 1.9913 - accuracy: 0.6641 - val_loss: 0.5770 - val_accuracy: 0.7615\n",
      "Epoch 2/20\n",
      "77/77 [==============================] - 0s 6ms/step - loss: 0.5799 - accuracy: 0.7465 - val_loss: 0.6718 - val_accuracy: 0.7662\n",
      "Epoch 3/20\n",
      "77/77 [==============================] - 0s 6ms/step - loss: 0.6077 - accuracy: 0.7385 - val_loss: 0.5470 - val_accuracy: 0.7518\n",
      "Epoch 4/20\n",
      "77/77 [==============================] - 0s 6ms/step - loss: 0.6612 - accuracy: 0.7201 - val_loss: 0.5404 - val_accuracy: 0.7576\n",
      "Epoch 5/20\n",
      "77/77 [==============================] - 0s 6ms/step - loss: 0.5956 - accuracy: 0.7406 - val_loss: 0.5561 - val_accuracy: 0.7660\n",
      "Epoch 6/20\n",
      "77/77 [==============================] - 0s 6ms/step - loss: 0.6361 - accuracy: 0.7263 - val_loss: 0.5977 - val_accuracy: 0.7662\n",
      "Epoch 7/20\n",
      "77/77 [==============================] - 0s 6ms/step - loss: 0.5984 - accuracy: 0.7344 - val_loss: 0.5710 - val_accuracy: 0.7236\n",
      "Epoch 8/20\n",
      "77/77 [==============================] - 0s 6ms/step - loss: 0.5667 - accuracy: 0.7465 - val_loss: 0.5349 - val_accuracy: 0.7630\n",
      "Epoch 9/20\n",
      "77/77 [==============================] - 0s 6ms/step - loss: 0.5667 - accuracy: 0.7478 - val_loss: 0.8254 - val_accuracy: 0.7656\n",
      "Epoch 10/20\n",
      "77/77 [==============================] - 0s 6ms/step - loss: 0.6290 - accuracy: 0.7305 - val_loss: 0.6714 - val_accuracy: 0.6405\n",
      "Epoch 11/20\n",
      "77/77 [==============================] - 0s 6ms/step - loss: 0.6156 - accuracy: 0.7324 - val_loss: 0.5386 - val_accuracy: 0.7666\n",
      "Epoch 12/20\n",
      "77/77 [==============================] - 1s 7ms/step - loss: 0.6251 - accuracy: 0.7267 - val_loss: 0.5533 - val_accuracy: 0.7383\n",
      "Epoch 13/20\n",
      "77/77 [==============================] - 1s 7ms/step - loss: 0.5507 - accuracy: 0.7514 - val_loss: 0.5335 - val_accuracy: 0.7670\n",
      "Epoch 14/20\n",
      "77/77 [==============================] - 0s 6ms/step - loss: 0.5624 - accuracy: 0.7498 - val_loss: 0.5428 - val_accuracy: 0.7576\n",
      "Epoch 15/20\n",
      "77/77 [==============================] - 0s 6ms/step - loss: 0.5476 - accuracy: 0.7548 - val_loss: 0.6447 - val_accuracy: 0.7661\n",
      "Epoch 16/20\n",
      "77/77 [==============================] - 0s 6ms/step - loss: 0.5987 - accuracy: 0.7369 - val_loss: 0.5496 - val_accuracy: 0.7673\n",
      "Epoch 17/20\n",
      "77/77 [==============================] - 0s 6ms/step - loss: 0.5520 - accuracy: 0.7535 - val_loss: 0.6072 - val_accuracy: 0.6853\n",
      "Epoch 18/20\n",
      "77/77 [==============================] - 0s 6ms/step - loss: 0.5932 - accuracy: 0.7367 - val_loss: 0.5414 - val_accuracy: 0.7667\n",
      "294/294 [==============================] - 0s 2ms/step - loss: 0.5354 - accuracy: 0.7660\n",
      "----------------------- model 1 is appended ------------------\n",
      "Epoch 1/20\n",
      "77/77 [==============================] - 1s 8ms/step - loss: 1.1881 - accuracy: 0.7358 - val_loss: 0.5345 - val_accuracy: 0.7752\n",
      "Epoch 2/20\n",
      "77/77 [==============================] - 0s 6ms/step - loss: 0.6899 - accuracy: 0.7409 - val_loss: 0.5495 - val_accuracy: 0.7497\n",
      "Epoch 3/20\n",
      "77/77 [==============================] - 0s 6ms/step - loss: 0.6505 - accuracy: 0.7447 - val_loss: 0.5444 - val_accuracy: 0.7602\n",
      "Epoch 4/20\n",
      "77/77 [==============================] - 1s 7ms/step - loss: 0.6408 - accuracy: 0.7548 - val_loss: 0.6886 - val_accuracy: 0.5715\n",
      "Epoch 5/20\n",
      "77/77 [==============================] - 1s 7ms/step - loss: 0.5456 - accuracy: 0.7754 - val_loss: 0.5525 - val_accuracy: 0.7857\n",
      "Epoch 6/20\n",
      "77/77 [==============================] - 1s 7ms/step - loss: 0.5906 - accuracy: 0.7657 - val_loss: 0.6735 - val_accuracy: 0.7857\n",
      "294/294 [==============================] - 1s 2ms/step - loss: 0.5192 - accuracy: 0.7895\n",
      "----------------------- model 2 is appended ------------------\n",
      "Epoch 1/20\n",
      "77/77 [==============================] - 1s 9ms/step - loss: 0.6942 - accuracy: 0.9111 - val_loss: 0.2711 - val_accuracy: 0.9350\n",
      "Epoch 2/20\n",
      "77/77 [==============================] - 0s 6ms/step - loss: 0.4981 - accuracy: 0.9262 - val_loss: 0.2863 - val_accuracy: 0.9351\n",
      "Epoch 3/20\n",
      "77/77 [==============================] - 0s 6ms/step - loss: 0.4117 - accuracy: 0.9255 - val_loss: 0.3439 - val_accuracy: 0.9351\n",
      "Epoch 4/20\n",
      "77/77 [==============================] - 0s 6ms/step - loss: 0.3482 - accuracy: 0.9314 - val_loss: 0.2636 - val_accuracy: 0.9333\n",
      "Epoch 5/20\n",
      "77/77 [==============================] - 0s 6ms/step - loss: 0.2847 - accuracy: 0.9366 - val_loss: 0.2857 - val_accuracy: 0.9276\n",
      "Epoch 6/20\n",
      "77/77 [==============================] - 1s 7ms/step - loss: 0.2973 - accuracy: 0.9354 - val_loss: 0.2480 - val_accuracy: 0.9338\n",
      "Epoch 7/20\n",
      "77/77 [==============================] - 0s 6ms/step - loss: 0.3142 - accuracy: 0.9328 - val_loss: 0.4223 - val_accuracy: 0.9351\n",
      "Epoch 8/20\n",
      "77/77 [==============================] - 0s 6ms/step - loss: 0.2649 - accuracy: 0.9376 - val_loss: 0.2490 - val_accuracy: 0.9351\n",
      "Epoch 9/20\n",
      "77/77 [==============================] - 0s 6ms/step - loss: 0.6705 - accuracy: 0.9101 - val_loss: 0.4017 - val_accuracy: 0.9351\n",
      "Epoch 10/20\n",
      "77/77 [==============================] - 0s 6ms/step - loss: 0.2912 - accuracy: 0.9355 - val_loss: 0.2431 - val_accuracy: 0.9351\n",
      "Epoch 11/20\n",
      "77/77 [==============================] - 0s 6ms/step - loss: 0.2349 - accuracy: 0.9403 - val_loss: 0.3814 - val_accuracy: 0.8704\n",
      "Epoch 12/20\n",
      "77/77 [==============================] - 0s 6ms/step - loss: 0.2826 - accuracy: 0.9364 - val_loss: 0.2404 - val_accuracy: 0.9351\n",
      "Epoch 13/20\n",
      "77/77 [==============================] - 0s 6ms/step - loss: 0.2281 - accuracy: 0.9406 - val_loss: 0.2408 - val_accuracy: 0.9351\n",
      "Epoch 14/20\n",
      "77/77 [==============================] - 0s 6ms/step - loss: 0.2264 - accuracy: 0.9404 - val_loss: 0.2513 - val_accuracy: 0.9351\n",
      "Epoch 15/20\n",
      "77/77 [==============================] - 0s 6ms/step - loss: 0.2426 - accuracy: 0.9397 - val_loss: 0.2388 - val_accuracy: 0.9351\n",
      "Epoch 16/20\n",
      "77/77 [==============================] - 0s 6ms/step - loss: 0.2436 - accuracy: 0.9391 - val_loss: 0.2422 - val_accuracy: 0.9349\n",
      "Epoch 17/20\n",
      "77/77 [==============================] - 0s 6ms/step - loss: 0.2334 - accuracy: 0.9405 - val_loss: 0.2845 - val_accuracy: 0.9204\n",
      "Epoch 18/20\n",
      "77/77 [==============================] - 0s 6ms/step - loss: 0.2667 - accuracy: 0.9383 - val_loss: 0.2484 - val_accuracy: 0.9351\n",
      "Epoch 19/20\n",
      "77/77 [==============================] - 0s 6ms/step - loss: 0.2618 - accuracy: 0.9378 - val_loss: 0.2669 - val_accuracy: 0.9351\n",
      "Epoch 20/20\n",
      "77/77 [==============================] - 0s 6ms/step - loss: 0.2628 - accuracy: 0.9388 - val_loss: 0.2588 - val_accuracy: 0.9351\n",
      "294/294 [==============================] - 0s 2ms/step - loss: 0.2329 - accuracy: 0.9372\n",
      "----------------------- model 3 is appended ------------------\n",
      "Epoch 1/20\n",
      "77/77 [==============================] - 1s 8ms/step - loss: 2.3812 - accuracy: 0.5389 - val_loss: 0.7639 - val_accuracy: 0.5312\n",
      "Epoch 2/20\n",
      "77/77 [==============================] - 0s 6ms/step - loss: 0.7070 - accuracy: 0.5817 - val_loss: 0.6936 - val_accuracy: 0.5746\n",
      "Epoch 3/20\n",
      "77/77 [==============================] - 0s 6ms/step - loss: 0.8630 - accuracy: 0.5709 - val_loss: 2.9671 - val_accuracy: 0.4069\n",
      "Epoch 4/20\n",
      "77/77 [==============================] - 1s 6ms/step - loss: 1.0300 - accuracy: 0.5776 - val_loss: 0.6825 - val_accuracy: 0.5817\n",
      "Epoch 5/20\n",
      "77/77 [==============================] - 0s 5ms/step - loss: 0.6908 - accuracy: 0.6027 - val_loss: 0.8600 - val_accuracy: 0.4943\n",
      "Epoch 6/20\n",
      "77/77 [==============================] - 0s 6ms/step - loss: 0.6984 - accuracy: 0.5985 - val_loss: 1.1031 - val_accuracy: 0.4619\n",
      "Epoch 7/20\n",
      "77/77 [==============================] - 0s 6ms/step - loss: 0.7541 - accuracy: 0.5884 - val_loss: 0.7812 - val_accuracy: 0.5369\n",
      "Epoch 8/20\n",
      "77/77 [==============================] - 0s 6ms/step - loss: 0.7111 - accuracy: 0.5957 - val_loss: 0.6655 - val_accuracy: 0.6051\n",
      "Epoch 9/20\n",
      "77/77 [==============================] - 0s 6ms/step - loss: 0.7350 - accuracy: 0.5939 - val_loss: 0.8137 - val_accuracy: 0.6247\n",
      "Epoch 10/20\n",
      "77/77 [==============================] - 0s 6ms/step - loss: 0.8067 - accuracy: 0.5824 - val_loss: 0.9527 - val_accuracy: 0.6069\n",
      "Epoch 11/20\n",
      "77/77 [==============================] - 0s 6ms/step - loss: 0.7479 - accuracy: 0.6017 - val_loss: 0.6432 - val_accuracy: 0.6353\n",
      "Epoch 12/20\n",
      "77/77 [==============================] - 0s 6ms/step - loss: 0.6890 - accuracy: 0.6075 - val_loss: 0.7434 - val_accuracy: 0.5460\n",
      "Epoch 13/20\n",
      "77/77 [==============================] - 0s 6ms/step - loss: 0.7043 - accuracy: 0.6036 - val_loss: 0.6693 - val_accuracy: 0.6011\n",
      "Epoch 14/20\n",
      "77/77 [==============================] - 0s 6ms/step - loss: 0.7199 - accuracy: 0.5970 - val_loss: 0.8934 - val_accuracy: 0.5015\n",
      "Epoch 15/20\n",
      "77/77 [==============================] - 0s 6ms/step - loss: 0.6848 - accuracy: 0.6124 - val_loss: 0.6371 - val_accuracy: 0.6292\n",
      "Epoch 16/20\n",
      "77/77 [==============================] - 1s 6ms/step - loss: 0.7233 - accuracy: 0.6033 - val_loss: 0.7408 - val_accuracy: 0.6219\n",
      "Epoch 17/20\n",
      "77/77 [==============================] - 0s 6ms/step - loss: 0.6965 - accuracy: 0.6072 - val_loss: 0.6369 - val_accuracy: 0.6317\n",
      "Epoch 18/20\n",
      "77/77 [==============================] - 1s 7ms/step - loss: 0.6940 - accuracy: 0.6067 - val_loss: 0.7968 - val_accuracy: 0.6159\n",
      "Epoch 19/20\n",
      "77/77 [==============================] - 0s 6ms/step - loss: 0.7164 - accuracy: 0.6013 - val_loss: 0.6547 - val_accuracy: 0.6249\n",
      "Epoch 20/20\n",
      "77/77 [==============================] - 0s 6ms/step - loss: 0.6653 - accuracy: 0.6178 - val_loss: 0.6391 - val_accuracy: 0.6382\n",
      "294/294 [==============================] - 1s 2ms/step - loss: 0.6399 - accuracy: 0.6317\n",
      "----------------------- model 4 is appended ------------------\n",
      "Epoch 1/20\n",
      "77/77 [==============================] - 1s 8ms/step - loss: 4.0558 - accuracy: 0.7133 - val_loss: 0.5585 - val_accuracy: 0.7608\n",
      "Epoch 2/20\n",
      "77/77 [==============================] - 0s 6ms/step - loss: 0.4897 - accuracy: 0.7928 - val_loss: 0.4761 - val_accuracy: 0.7913\n",
      "Epoch 3/20\n",
      "77/77 [==============================] - 0s 6ms/step - loss: 0.4554 - accuracy: 0.8017 - val_loss: 0.4604 - val_accuracy: 0.7865\n",
      "Epoch 4/20\n",
      "77/77 [==============================] - 0s 6ms/step - loss: 0.4502 - accuracy: 0.8024 - val_loss: 0.4504 - val_accuracy: 0.7954\n",
      "Epoch 5/20\n",
      "77/77 [==============================] - 1s 7ms/step - loss: 0.4419 - accuracy: 0.8047 - val_loss: 0.4951 - val_accuracy: 0.7715\n",
      "Epoch 6/20\n",
      "77/77 [==============================] - 0s 6ms/step - loss: 0.4424 - accuracy: 0.8043 - val_loss: 0.4760 - val_accuracy: 0.7953\n",
      "Epoch 7/20\n",
      "77/77 [==============================] - 0s 6ms/step - loss: 0.4836 - accuracy: 0.7955 - val_loss: 0.4727 - val_accuracy: 0.7954\n",
      "Epoch 8/20\n",
      "77/77 [==============================] - 1s 7ms/step - loss: 0.4887 - accuracy: 0.7933 - val_loss: 0.4486 - val_accuracy: 0.7921\n",
      "Epoch 9/20\n",
      "77/77 [==============================] - 0s 6ms/step - loss: 0.4431 - accuracy: 0.8046 - val_loss: 0.5024 - val_accuracy: 0.7953\n",
      "Epoch 10/20\n",
      "77/77 [==============================] - 1s 7ms/step - loss: 0.4514 - accuracy: 0.8015 - val_loss: 0.4395 - val_accuracy: 0.7974\n",
      "Epoch 11/20\n",
      "77/77 [==============================] - 1s 7ms/step - loss: 0.4486 - accuracy: 0.8032 - val_loss: 0.4393 - val_accuracy: 0.7985\n",
      "Epoch 12/20\n",
      "77/77 [==============================] - 0s 6ms/step - loss: 0.4815 - accuracy: 0.7955 - val_loss: 0.6164 - val_accuracy: 0.7949\n",
      "Epoch 13/20\n",
      "77/77 [==============================] - 1s 7ms/step - loss: 0.4761 - accuracy: 0.7982 - val_loss: 0.4417 - val_accuracy: 0.7967\n",
      "Epoch 14/20\n",
      "77/77 [==============================] - 1s 7ms/step - loss: 0.4370 - accuracy: 0.8059 - val_loss: 0.4432 - val_accuracy: 0.7975\n",
      "Epoch 15/20\n",
      "77/77 [==============================] - 1s 7ms/step - loss: 0.4501 - accuracy: 0.8025 - val_loss: 0.5189 - val_accuracy: 0.7954\n",
      "Epoch 16/20\n",
      "77/77 [==============================] - 0s 6ms/step - loss: 0.4452 - accuracy: 0.8039 - val_loss: 0.4360 - val_accuracy: 0.8006\n",
      "Epoch 17/20\n",
      "77/77 [==============================] - 0s 6ms/step - loss: 0.4279 - accuracy: 0.8083 - val_loss: 0.4540 - val_accuracy: 0.7939\n",
      "Epoch 18/20\n",
      "77/77 [==============================] - 0s 6ms/step - loss: 0.4397 - accuracy: 0.8054 - val_loss: 0.4753 - val_accuracy: 0.7780\n",
      "Epoch 19/20\n",
      "77/77 [==============================] - 0s 6ms/step - loss: 0.4450 - accuracy: 0.8032 - val_loss: 0.4558 - val_accuracy: 0.7968\n",
      "Epoch 20/20\n",
      "77/77 [==============================] - 0s 6ms/step - loss: 0.4601 - accuracy: 0.7997 - val_loss: 0.4460 - val_accuracy: 0.8001\n",
      "294/294 [==============================] - 0s 2ms/step - loss: 0.4316 - accuracy: 0.8075\n",
      "----------------------- model 5 is appended ------------------\n",
      "Epoch 1/20\n",
      "77/77 [==============================] - 1s 8ms/step - loss: 1.1038 - accuracy: 0.6314 - val_loss: 0.6379 - val_accuracy: 0.6644\n",
      "Epoch 2/20\n",
      "77/77 [==============================] - 0s 6ms/step - loss: 0.6676 - accuracy: 0.6643 - val_loss: 0.6408 - val_accuracy: 0.6823\n",
      "Epoch 3/20\n",
      "77/77 [==============================] - 0s 6ms/step - loss: 0.6642 - accuracy: 0.6686 - val_loss: 0.6597 - val_accuracy: 0.6185\n",
      "Epoch 4/20\n",
      "77/77 [==============================] - 0s 6ms/step - loss: 0.6513 - accuracy: 0.6716 - val_loss: 0.6150 - val_accuracy: 0.6815\n",
      "Epoch 5/20\n",
      "77/77 [==============================] - 0s 6ms/step - loss: 0.6492 - accuracy: 0.6749 - val_loss: 0.7509 - val_accuracy: 0.6853\n",
      "Epoch 6/20\n",
      "77/77 [==============================] - 0s 6ms/step - loss: 0.6611 - accuracy: 0.6697 - val_loss: 0.7365 - val_accuracy: 0.5712\n",
      "Epoch 7/20\n",
      "77/77 [==============================] - 0s 6ms/step - loss: 0.6430 - accuracy: 0.6734 - val_loss: 0.6943 - val_accuracy: 0.6841\n",
      "Epoch 8/20\n",
      "77/77 [==============================] - 0s 6ms/step - loss: 0.6501 - accuracy: 0.6723 - val_loss: 0.6595 - val_accuracy: 0.6387\n",
      "Epoch 9/20\n",
      "77/77 [==============================] - 0s 6ms/step - loss: 0.6442 - accuracy: 0.6750 - val_loss: 0.7581 - val_accuracy: 0.5643\n",
      "294/294 [==============================] - 0s 2ms/step - loss: 0.6089 - accuracy: 0.6904\n",
      "----------------------- model 6 is appended ------------------\n",
      "Epoch 1/20\n",
      "77/77 [==============================] - 1s 8ms/step - loss: 0.2669 - accuracy: 0.9509 - val_loss: 0.2159 - val_accuracy: 0.9493\n",
      "Epoch 2/20\n",
      "77/77 [==============================] - 0s 6ms/step - loss: 0.1947 - accuracy: 0.9559 - val_loss: 0.1967 - val_accuracy: 0.9514\n",
      "Epoch 3/20\n",
      "77/77 [==============================] - 0s 6ms/step - loss: 0.2383 - accuracy: 0.9530 - val_loss: 0.2024 - val_accuracy: 0.9531\n",
      "Epoch 4/20\n",
      "77/77 [==============================] - 0s 6ms/step - loss: 0.2179 - accuracy: 0.9548 - val_loss: 0.3485 - val_accuracy: 0.9253\n",
      "Epoch 5/20\n",
      "77/77 [==============================] - 0s 6ms/step - loss: 0.2907 - accuracy: 0.9511 - val_loss: 0.1945 - val_accuracy: 0.9542\n",
      "Epoch 6/20\n",
      "77/77 [==============================] - 0s 6ms/step - loss: 0.1856 - accuracy: 0.9562 - val_loss: 0.1837 - val_accuracy: 0.9542\n",
      "Epoch 7/20\n",
      "77/77 [==============================] - 0s 6ms/step - loss: 0.1951 - accuracy: 0.9556 - val_loss: 0.1908 - val_accuracy: 0.9542\n",
      "Epoch 8/20\n",
      "77/77 [==============================] - 0s 6ms/step - loss: 0.2134 - accuracy: 0.9551 - val_loss: 0.1863 - val_accuracy: 0.9540\n",
      "Epoch 9/20\n",
      "77/77 [==============================] - 0s 6ms/step - loss: 0.1815 - accuracy: 0.9563 - val_loss: 0.1985 - val_accuracy: 0.9542\n",
      "Epoch 10/20\n",
      "77/77 [==============================] - 0s 6ms/step - loss: 0.1855 - accuracy: 0.9562 - val_loss: 0.2078 - val_accuracy: 0.9542\n",
      "Epoch 11/20\n",
      "77/77 [==============================] - 1s 7ms/step - loss: 0.2014 - accuracy: 0.9557 - val_loss: 0.1845 - val_accuracy: 0.9542\n",
      "294/294 [==============================] - 0s 2ms/step - loss: 0.1867 - accuracy: 0.9546\n",
      "----------------------- model 7 is appended ------------------\n",
      "Epoch 1/20\n",
      "77/77 [==============================] - 1s 8ms/step - loss: 1.0307 - accuracy: 0.6524 - val_loss: 0.6543 - val_accuracy: 0.6561\n",
      "Epoch 2/20\n",
      "77/77 [==============================] - 0s 6ms/step - loss: 0.6013 - accuracy: 0.7060 - val_loss: 0.6765 - val_accuracy: 0.6581\n",
      "Epoch 3/20\n",
      "77/77 [==============================] - 0s 6ms/step - loss: 0.6005 - accuracy: 0.7113 - val_loss: 0.5541 - val_accuracy: 0.7299\n",
      "Epoch 4/20\n",
      "77/77 [==============================] - 0s 6ms/step - loss: 0.5616 - accuracy: 0.7283 - val_loss: 0.5484 - val_accuracy: 0.7310\n",
      "Epoch 5/20\n",
      "77/77 [==============================] - 0s 6ms/step - loss: 0.5753 - accuracy: 0.7264 - val_loss: 0.6025 - val_accuracy: 0.7019\n",
      "Epoch 6/20\n",
      "77/77 [==============================] - 0s 6ms/step - loss: 0.5456 - accuracy: 0.7380 - val_loss: 0.5234 - val_accuracy: 0.7481\n",
      "Epoch 7/20\n",
      "77/77 [==============================] - 0s 6ms/step - loss: 0.5561 - accuracy: 0.7338 - val_loss: 0.5742 - val_accuracy: 0.7184\n",
      "Epoch 8/20\n",
      "77/77 [==============================] - 1s 6ms/step - loss: 0.5655 - accuracy: 0.7316 - val_loss: 0.5439 - val_accuracy: 0.7388\n",
      "Epoch 9/20\n",
      "77/77 [==============================] - 0s 6ms/step - loss: 0.5459 - accuracy: 0.7414 - val_loss: 0.5594 - val_accuracy: 0.7278\n",
      "Epoch 10/20\n",
      "77/77 [==============================] - 0s 6ms/step - loss: 0.5731 - accuracy: 0.7313 - val_loss: 0.5232 - val_accuracy: 0.7466\n",
      "Epoch 11/20\n",
      "77/77 [==============================] - 0s 6ms/step - loss: 0.5544 - accuracy: 0.7392 - val_loss: 0.5646 - val_accuracy: 0.7282\n",
      "Epoch 12/20\n",
      "77/77 [==============================] - 1s 7ms/step - loss: 0.6228 - accuracy: 0.7187 - val_loss: 0.5968 - val_accuracy: 0.7205\n",
      "Epoch 13/20\n",
      "77/77 [==============================] - 0s 6ms/step - loss: 0.5255 - accuracy: 0.7510 - val_loss: 0.5374 - val_accuracy: 0.7369\n",
      "Epoch 14/20\n",
      "77/77 [==============================] - 0s 6ms/step - loss: 0.5253 - accuracy: 0.7507 - val_loss: 0.5684 - val_accuracy: 0.7275\n",
      "Epoch 15/20\n",
      "77/77 [==============================] - 0s 6ms/step - loss: 0.5193 - accuracy: 0.7537 - val_loss: 0.6376 - val_accuracy: 0.7050\n",
      "294/294 [==============================] - 0s 2ms/step - loss: 0.5193 - accuracy: 0.7495\n",
      "----------------------- model 8 is appended ------------------\n",
      "Epoch 1/20\n",
      "77/77 [==============================] - 1s 8ms/step - loss: 1.4698 - accuracy: 0.6818 - val_loss: 0.6308 - val_accuracy: 0.7449\n",
      "Epoch 2/20\n",
      "77/77 [==============================] - 0s 6ms/step - loss: 0.6442 - accuracy: 0.7167 - val_loss: 0.6009 - val_accuracy: 0.7459\n",
      "Epoch 3/20\n",
      "77/77 [==============================] - 0s 6ms/step - loss: 0.5983 - accuracy: 0.7327 - val_loss: 0.6683 - val_accuracy: 0.7464\n",
      "Epoch 4/20\n",
      "77/77 [==============================] - 0s 6ms/step - loss: 0.6455 - accuracy: 0.7155 - val_loss: 0.8077 - val_accuracy: 0.7465\n",
      "Epoch 5/20\n",
      "77/77 [==============================] - 0s 6ms/step - loss: 0.7147 - accuracy: 0.6987 - val_loss: 0.5982 - val_accuracy: 0.7438\n",
      "Epoch 6/20\n",
      "77/77 [==============================] - 0s 6ms/step - loss: 0.6501 - accuracy: 0.7165 - val_loss: 0.5770 - val_accuracy: 0.7467\n",
      "Epoch 7/20\n",
      "77/77 [==============================] - 0s 6ms/step - loss: 0.5781 - accuracy: 0.7398 - val_loss: 0.5574 - val_accuracy: 0.7462\n",
      "Epoch 8/20\n",
      "77/77 [==============================] - 0s 6ms/step - loss: 0.6569 - accuracy: 0.7195 - val_loss: 0.5740 - val_accuracy: 0.7468\n",
      "Epoch 9/20\n",
      "77/77 [==============================] - 0s 6ms/step - loss: 0.6355 - accuracy: 0.7162 - val_loss: 0.6955 - val_accuracy: 0.7467\n",
      "Epoch 10/20\n",
      "77/77 [==============================] - 0s 6ms/step - loss: 0.6020 - accuracy: 0.7303 - val_loss: 0.6176 - val_accuracy: 0.7457\n",
      "Epoch 11/20\n",
      "77/77 [==============================] - 1s 7ms/step - loss: 0.5927 - accuracy: 0.7363 - val_loss: 0.6564 - val_accuracy: 0.6474\n",
      "Epoch 12/20\n",
      "77/77 [==============================] - 1s 7ms/step - loss: 0.5782 - accuracy: 0.7395 - val_loss: 0.5700 - val_accuracy: 0.7349\n",
      "294/294 [==============================] - 0s 2ms/step - loss: 0.5537 - accuracy: 0.7508\n",
      "----------------------- model 9 is appended ------------------\n"
     ]
    }
   ],
   "source": [
    "import tensorflow as tf\n",
    "from tensorflow.keras import layers\n",
    "from tensorflow.keras.callbacks import EarlyStopping\n",
    "\n",
    "\n",
    "\n",
    "\n",
    "\n",
    "\n",
    "models = []\n",
    "\n",
    "for i in range(9):\n",
    "    # Define early stopping callback\n",
    "    early_stopping = EarlyStopping(monitor='val_loss',  # Monitor validation loss\n",
    "                               patience=5,          # Number of epochs with no improvement\n",
    "                               restore_best_weights=True)  # Restore the best weights\n",
    "\n",
    "    # Define the model\n",
    "    model = tf.keras.Sequential([\n",
    "        layers.Dense(128, activation='relu'),\n",
    "        layers.Dense(64, activation='relu'),\n",
    "        layers.Dense(1, activation='sigmoid')  # Output layer with sigmoid activation (num_classes = 9)\n",
    "    ])\n",
    "    model.compile(optimizer='adam',\n",
    "                  loss='binary_crossentropy',  # Use binary_crossentropy for multi-label classification\n",
    "                  metrics=['accuracy'])\n",
    "\n",
    "\n",
    "    history = model.fit(\n",
    "        X_train,        # Training data features\n",
    "        y_train[:, i],           # Training data labels\n",
    "        epochs=20,         # Number of training epochs\n",
    "        validation_data=(X_val, y_val[:, i]),  # Validation data (features and labels)\n",
    "        batch_size=1000,     # Batch size (optional, adjust as needed)\n",
    "        verbose=1    ,      # Verbosity level (0, 1, or 2, where 1 shows progress bars)\n",
    "        callbacks=[early_stopping]   # Use the checkpoint callback\n",
    "    ) \n",
    "    \n",
    "    dic = {\n",
    "        \"model\" : model,\n",
    "        \"evaluate\": model.evaluate(X_test,y_test[:, i])\n",
    "    }\n",
    "    models.append(dic)\n",
    "    \n",
    "    \n",
    "    print(f\"----------------------- model {i+1} is appended ------------------\")"
   ]
  },
  {
   "cell_type": "markdown",
   "id": "6abd7436",
   "metadata": {
    "papermill": {
     "duration": 0.082541,
     "end_time": "2023-10-09T14:10:49.973829",
     "exception": false,
     "start_time": "2023-10-09T14:10:49.891288",
     "status": "completed"
    },
    "tags": []
   },
   "source": [
    "model print(0) can work. you need to evaluate"
   ]
  },
  {
   "cell_type": "code",
   "execution_count": 21,
   "id": "e795cd9c",
   "metadata": {
    "execution": {
     "iopub.execute_input": "2023-10-09T14:10:50.143895Z",
     "iopub.status.busy": "2023-10-09T14:10:50.143469Z",
     "iopub.status.idle": "2023-10-09T14:10:50.149086Z",
     "shell.execute_reply": "2023-10-09T14:10:50.147788Z"
    },
    "papermill": {
     "duration": 0.092989,
     "end_time": "2023-10-09T14:10:50.151610",
     "exception": false,
     "start_time": "2023-10-09T14:10:50.058621",
     "status": "completed"
    },
    "tags": []
   },
   "outputs": [],
   "source": [
    "# sum((y_test[:,6] == pred_01.transpose())[0])/len(y_test)"
   ]
  },
  {
   "cell_type": "markdown",
   "id": "f28aa2ed",
   "metadata": {
    "papermill": {
     "duration": 0.082199,
     "end_time": "2023-10-09T14:10:50.319737",
     "exception": false,
     "start_time": "2023-10-09T14:10:50.237538",
     "status": "completed"
    },
    "tags": []
   },
   "source": [
    "### Probabilty"
   ]
  },
  {
   "cell_type": "code",
   "execution_count": 22,
   "id": "d6db8beb",
   "metadata": {
    "execution": {
     "iopub.execute_input": "2023-10-09T14:10:50.488735Z",
     "iopub.status.busy": "2023-10-09T14:10:50.487685Z",
     "iopub.status.idle": "2023-10-09T14:10:56.009553Z",
     "shell.execute_reply": "2023-10-09T14:10:56.007482Z"
    },
    "papermill": {
     "duration": 5.611062,
     "end_time": "2023-10-09T14:10:56.012535",
     "exception": false,
     "start_time": "2023-10-09T14:10:50.401473",
     "status": "completed"
    },
    "tags": []
   },
   "outputs": [
    {
     "name": "stdout",
     "output_type": "stream",
     "text": [
      "294/294 [==============================] - 0s 1ms/step\n",
      "0\n",
      "294/294 [==============================] - 0s 1ms/step\n",
      "1\n",
      "294/294 [==============================] - 0s 1ms/step\n",
      "2\n",
      "294/294 [==============================] - 0s 1ms/step\n",
      "3\n",
      "294/294 [==============================] - 0s 1ms/step\n",
      "4\n",
      "294/294 [==============================] - 0s 1ms/step\n",
      "5\n",
      "294/294 [==============================] - 0s 1ms/step\n",
      "6\n",
      "294/294 [==============================] - 0s 1ms/step\n",
      "7\n",
      "294/294 [==============================] - 0s 1ms/step\n",
      "8\n"
     ]
    }
   ],
   "source": [
    "test_df = pd.DataFrame()\n",
    "\n",
    "for i in range(9):\n",
    "    # Create a Random Forest Classifier for each label (you can use other models as needed)\n",
    " \n",
    "    \n",
    "    # Predict the labels for the test set\n",
    "    y_pred = models[i][\"model\"].predict(X_test)\n",
    "    \n",
    "    # Store the predicted labels in the DataFrame\n",
    "    test_df[f'Label_{i+1}_Predicted'] = y_pred[:,0]\n",
    "    print(i)"
   ]
  },
  {
   "cell_type": "code",
   "execution_count": 23,
   "id": "18d4508b",
   "metadata": {
    "execution": {
     "iopub.execute_input": "2023-10-09T14:10:56.196364Z",
     "iopub.status.busy": "2023-10-09T14:10:56.195661Z",
     "iopub.status.idle": "2023-10-09T14:10:56.201243Z",
     "shell.execute_reply": "2023-10-09T14:10:56.199973Z"
    },
    "papermill": {
     "duration": 0.10063,
     "end_time": "2023-10-09T14:10:56.204067",
     "exception": false,
     "start_time": "2023-10-09T14:10:56.103437",
     "status": "completed"
    },
    "tags": []
   },
   "outputs": [],
   "source": [
    "def sort_and_get_threshhold(arr):\n",
    "  sorted_array = np.sort(arr)[::-1]\n",
    "  threshold = sorted_array[2] \n",
    "  result = []\n",
    "  for i in arr:\n",
    "        if i >= threshold and sum(result)<3:\n",
    "            result.append(1)\n",
    "        else:\n",
    "            result.append(0)\n",
    "\n",
    "            \n",
    "  return result"
   ]
  },
  {
   "cell_type": "code",
   "execution_count": 24,
   "id": "5b3acfbc",
   "metadata": {
    "execution": {
     "iopub.execute_input": "2023-10-09T14:10:56.386198Z",
     "iopub.status.busy": "2023-10-09T14:10:56.385776Z",
     "iopub.status.idle": "2023-10-09T14:10:56.711648Z",
     "shell.execute_reply": "2023-10-09T14:10:56.710117Z"
    },
    "papermill": {
     "duration": 0.419552,
     "end_time": "2023-10-09T14:10:56.714178",
     "exception": false,
     "start_time": "2023-10-09T14:10:56.294626",
     "status": "completed"
    },
    "tags": []
   },
   "outputs": [
    {
     "data": {
      "text/plain": [
       "0.5505263157894735"
      ]
     },
     "execution_count": 24,
     "metadata": {},
     "output_type": "execute_result"
    }
   ],
   "source": [
    "from sklearn.metrics import jaccard_score\n",
    "result = test_df.apply(sort_and_get_threshhold,axis=1)\n",
    "result_np = np.array(result.to_list())\n",
    "jaccard_samples = jaccard_score(y_test, result_np, average='samples')\n",
    "jaccard_samples"
   ]
  },
  {
   "cell_type": "markdown",
   "id": "feae7a8e",
   "metadata": {
    "papermill": {
     "duration": 0.093036,
     "end_time": "2023-10-09T14:10:56.897829",
     "exception": false,
     "start_time": "2023-10-09T14:10:56.804793",
     "status": "completed"
    },
    "tags": []
   },
   "source": []
  },
  {
   "cell_type": "code",
   "execution_count": 25,
   "id": "50e0acf7",
   "metadata": {
    "execution": {
     "iopub.execute_input": "2023-10-09T14:10:57.081751Z",
     "iopub.status.busy": "2023-10-09T14:10:57.081261Z",
     "iopub.status.idle": "2023-10-09T14:10:57.087049Z",
     "shell.execute_reply": "2023-10-09T14:10:57.085680Z"
    },
    "papermill": {
     "duration": 0.101303,
     "end_time": "2023-10-09T14:10:57.089485",
     "exception": false,
     "start_time": "2023-10-09T14:10:56.988182",
     "status": "completed"
    },
    "tags": []
   },
   "outputs": [],
   "source": [
    "# for model_info in models:\n",
    "#     print(f\"Model for {model_info['label']}:\")\n",
    "#     print(f\"F1 Score: {model_info['f1_score']}\")\n",
    "#     print(f\"Precision: {model_info['precision']}\")\n",
    "#     print(f\"Recall: {model_info['recall']}\")\n",
    "#     print(f\"Hamming Loss: {model_info['hamming_loss']}\")\n",
    "#     print(\"\\n\")"
   ]
  },
  {
   "cell_type": "markdown",
   "id": "3212a003",
   "metadata": {
    "papermill": {
     "duration": 0.092206,
     "end_time": "2023-10-09T14:10:57.275224",
     "exception": false,
     "start_time": "2023-10-09T14:10:57.183018",
     "status": "completed"
    },
    "tags": []
   },
   "source": [
    "work on label 7"
   ]
  },
  {
   "cell_type": "markdown",
   "id": "b687f022",
   "metadata": {
    "papermill": {
     "duration": 0.08705,
     "end_time": "2023-10-09T14:10:57.452851",
     "exception": false,
     "start_time": "2023-10-09T14:10:57.365801",
     "status": "completed"
    },
    "tags": []
   },
   "source": [
    "# Submition"
   ]
  },
  {
   "cell_type": "code",
   "execution_count": 26,
   "id": "29ca34cf",
   "metadata": {
    "execution": {
     "iopub.execute_input": "2023-10-09T14:10:57.709086Z",
     "iopub.status.busy": "2023-10-09T14:10:57.708678Z",
     "iopub.status.idle": "2023-10-09T14:10:57.852396Z",
     "shell.execute_reply": "2023-10-09T14:10:57.851010Z"
    },
    "papermill": {
     "duration": 0.311392,
     "end_time": "2023-10-09T14:10:57.855338",
     "exception": false,
     "start_time": "2023-10-09T14:10:57.543946",
     "status": "completed"
    },
    "tags": []
   },
   "outputs": [],
   "source": [
    "test_features = pd.read_parquet(\"/kaggle/input/turkiye-is-bankasi-ml-challenge-5/test_final.parquet\")\n",
    "submit = pd.read_parquet(\"/kaggle/input/turkiye-is-bankasi-ml-challenge-5/submission_sample_final.parquet\")"
   ]
  },
  {
   "cell_type": "code",
   "execution_count": 27,
   "id": "5fde4f9d",
   "metadata": {
    "execution": {
     "iopub.execute_input": "2023-10-09T14:10:58.036124Z",
     "iopub.status.busy": "2023-10-09T14:10:58.035768Z",
     "iopub.status.idle": "2023-10-09T14:10:58.074169Z",
     "shell.execute_reply": "2023-10-09T14:10:58.072770Z"
    },
    "papermill": {
     "duration": 0.133913,
     "end_time": "2023-10-09T14:10:58.077228",
     "exception": false,
     "start_time": "2023-10-09T14:10:57.943315",
     "status": "completed"
    },
    "tags": []
   },
   "outputs": [],
   "source": [
    "cats_dict = {\n",
    " 'carrier': ['TURKCELL',\n",
    "  'VODAFONE TR',\n",
    "  'TURK TELEKOM',\n",
    "  'BIMCELL',\n",
    "  'Unknown',\n",
    "  'KKTCELL',\n",
    "  'VODAFONE',\n",
    "  'HAYATEVESIGAR',\n",
    "  'TEKNOSACELL'],\n",
    " 'devicebrand': ['Apple',\n",
    "  'samsung',\n",
    "  'Redmi',\n",
    "  'HUAWEI',\n",
    "  'xiaomi',\n",
    "  'OPPO',\n",
    "  'POCO',\n",
    "  'GM',\n",
    "  'realme']}\n",
    "\n",
    "\n",
    "df = test_features.copy()\n",
    "categorical_columns = ['carrier',\n",
    "       'devicebrand',]\n",
    "for col in categorical_columns:\n",
    "    df[col] = df[col].apply(lambda x: x if  x in cats_dict[col] else \"others\" )\n",
    "\n",
    "df['carrier'].value_counts() , df['devicebrand'].value_counts() ,df['month'].value_counts()\n",
    "df = df.drop([\"id\",\"month\"], axis=1)\n",
    "df= df.join(pd.get_dummies(df[categorical_columns])).drop(categorical_columns ,axis=1)"
   ]
  },
  {
   "cell_type": "code",
   "execution_count": 28,
   "id": "63a6266e",
   "metadata": {
    "execution": {
     "iopub.execute_input": "2023-10-09T14:10:58.269204Z",
     "iopub.status.busy": "2023-10-09T14:10:58.268842Z",
     "iopub.status.idle": "2023-10-09T14:10:58.374144Z",
     "shell.execute_reply": "2023-10-09T14:10:58.372823Z"
    },
    "papermill": {
     "duration": 0.208458,
     "end_time": "2023-10-09T14:10:58.377255",
     "exception": false,
     "start_time": "2023-10-09T14:10:58.168797",
     "status": "completed"
    },
    "tags": []
   },
   "outputs": [],
   "source": [
    "X_test = df.to_numpy().astype('float32')"
   ]
  },
  {
   "cell_type": "code",
   "execution_count": 29,
   "id": "246bc5cf",
   "metadata": {
    "execution": {
     "iopub.execute_input": "2023-10-09T14:10:58.572004Z",
     "iopub.status.busy": "2023-10-09T14:10:58.571629Z",
     "iopub.status.idle": "2023-10-09T14:10:58.578123Z",
     "shell.execute_reply": "2023-10-09T14:10:58.576941Z"
    },
    "papermill": {
     "duration": 0.106354,
     "end_time": "2023-10-09T14:10:58.581359",
     "exception": false,
     "start_time": "2023-10-09T14:10:58.475005",
     "status": "completed"
    },
    "tags": []
   },
   "outputs": [],
   "source": [
    "def sort_and_get_threshhold(arr):\n",
    "  sorted_array = np.sort(arr)[::-1]\n",
    "  threshold = sorted_array[2] \n",
    "  result = []\n",
    "  for i in arr:\n",
    "        if i >= threshold and sum(result)<3:\n",
    "            result.append(1)\n",
    "        else:\n",
    "            result.append(0)\n",
    "\n",
    "            \n",
    "  return result"
   ]
  },
  {
   "cell_type": "code",
   "execution_count": 30,
   "id": "d387702f",
   "metadata": {
    "execution": {
     "iopub.execute_input": "2023-10-09T14:10:58.764414Z",
     "iopub.status.busy": "2023-10-09T14:10:58.763982Z",
     "iopub.status.idle": "2023-10-09T14:11:04.850099Z",
     "shell.execute_reply": "2023-10-09T14:11:04.848702Z"
    },
    "papermill": {
     "duration": 6.178439,
     "end_time": "2023-10-09T14:11:04.852517",
     "exception": false,
     "start_time": "2023-10-09T14:10:58.674078",
     "status": "completed"
    },
    "tags": []
   },
   "outputs": [
    {
     "name": "stdout",
     "output_type": "stream",
     "text": [
      "374/374 [==============================] - 0s 1ms/step\n",
      "0\n",
      "374/374 [==============================] - 1s 1ms/step\n",
      "1\n",
      "374/374 [==============================] - 1s 1ms/step\n",
      "2\n",
      "374/374 [==============================] - 0s 1ms/step\n",
      "3\n",
      "374/374 [==============================] - 0s 1ms/step\n",
      "4\n",
      "374/374 [==============================] - 1s 1ms/step\n",
      "5\n",
      "374/374 [==============================] - 0s 1ms/step\n",
      "6\n",
      "374/374 [==============================] - 0s 1ms/step\n",
      "7\n",
      "374/374 [==============================] - 0s 1ms/step\n",
      "8\n"
     ]
    }
   ],
   "source": [
    "test_df = pd.DataFrame()\n",
    "\n",
    "for i in range(9):\n",
    "    # Create a Random Forest Classifier for each label (you can use other models as needed)\n",
    " \n",
    "    \n",
    "    # Predict the labels for the test set\n",
    "    y_pred = models[i][\"model\"].predict(X_test)\n",
    "    \n",
    "    # Store the predicted labels in the DataFrame\n",
    "    test_df[f'Label_{i+1}_Predicted'] = y_pred[:,0]\n",
    "    print(i)"
   ]
  },
  {
   "cell_type": "code",
   "execution_count": 31,
   "id": "9baf62cf",
   "metadata": {
    "execution": {
     "iopub.execute_input": "2023-10-09T14:11:05.042748Z",
     "iopub.status.busy": "2023-10-09T14:11:05.042230Z",
     "iopub.status.idle": "2023-10-09T14:11:05.806195Z",
     "shell.execute_reply": "2023-10-09T14:11:05.805166Z"
    },
    "papermill": {
     "duration": 0.861909,
     "end_time": "2023-10-09T14:11:05.809386",
     "exception": false,
     "start_time": "2023-10-09T14:11:04.947477",
     "status": "completed"
    },
    "tags": []
   },
   "outputs": [],
   "source": [
    "result = pd.DataFrame(test_df).apply(sort_and_get_threshhold,axis=1)"
   ]
  },
  {
   "cell_type": "code",
   "execution_count": 32,
   "id": "3da27021",
   "metadata": {
    "execution": {
     "iopub.execute_input": "2023-10-09T14:11:06.006440Z",
     "iopub.status.busy": "2023-10-09T14:11:06.005753Z",
     "iopub.status.idle": "2023-10-09T14:11:06.029092Z",
     "shell.execute_reply": "2023-10-09T14:11:06.028085Z"
    },
    "papermill": {
     "duration": 0.126028,
     "end_time": "2023-10-09T14:11:06.031637",
     "exception": false,
     "start_time": "2023-10-09T14:11:05.905609",
     "status": "completed"
    },
    "tags": []
   },
   "outputs": [],
   "source": [
    "result = result.apply(lambda row: \"\".join(map(str,row)))"
   ]
  },
  {
   "cell_type": "code",
   "execution_count": 33,
   "id": "dd262efb",
   "metadata": {
    "execution": {
     "iopub.execute_input": "2023-10-09T14:11:06.226086Z",
     "iopub.status.busy": "2023-10-09T14:11:06.225670Z",
     "iopub.status.idle": "2023-10-09T14:11:06.231898Z",
     "shell.execute_reply": "2023-10-09T14:11:06.230670Z"
    },
    "papermill": {
     "duration": 0.105202,
     "end_time": "2023-10-09T14:11:06.233901",
     "exception": false,
     "start_time": "2023-10-09T14:11:06.128699",
     "status": "completed"
    },
    "tags": []
   },
   "outputs": [],
   "source": [
    "submit[\"target\"] = result"
   ]
  },
  {
   "cell_type": "code",
   "execution_count": 34,
   "id": "44387a08",
   "metadata": {
    "execution": {
     "iopub.execute_input": "2023-10-09T14:11:06.427887Z",
     "iopub.status.busy": "2023-10-09T14:11:06.427476Z",
     "iopub.status.idle": "2023-10-09T14:11:06.462121Z",
     "shell.execute_reply": "2023-10-09T14:11:06.461129Z"
    },
    "papermill": {
     "duration": 0.134976,
     "end_time": "2023-10-09T14:11:06.464499",
     "exception": false,
     "start_time": "2023-10-09T14:11:06.329523",
     "status": "completed"
    },
    "tags": []
   },
   "outputs": [],
   "source": [
    "submit.to_csv(\"submission.csv\", index=False)\n"
   ]
  }
 ],
 "metadata": {
  "kernelspec": {
   "display_name": "Python 3",
   "language": "python",
   "name": "python3"
  },
  "language_info": {
   "codemirror_mode": {
    "name": "ipython",
    "version": 3
   },
   "file_extension": ".py",
   "mimetype": "text/x-python",
   "name": "python",
   "nbconvert_exporter": "python",
   "pygments_lexer": "ipython3",
   "version": "3.10.12"
  },
  "papermill": {
   "default_parameters": {},
   "duration": 120.499775,
   "end_time": "2023-10-09T14:11:09.679258",
   "environment_variables": {},
   "exception": null,
   "input_path": "__notebook__.ipynb",
   "output_path": "__notebook__.ipynb",
   "parameters": {},
   "start_time": "2023-10-09T14:09:09.179483",
   "version": "2.4.0"
  }
 },
 "nbformat": 4,
 "nbformat_minor": 5
}
